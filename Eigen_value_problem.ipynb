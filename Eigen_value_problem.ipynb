{
  "nbformat": 4,
  "nbformat_minor": 0,
  "metadata": {
    "colab": {
      "name": "Eigen_value_problem.ipynb",
      "provenance": [],
      "collapsed_sections": [],
      "authorship_tag": "ABX9TyObX60nCmj0Mb5mpjzPOdG/",
      "include_colab_link": true
    },
    "kernelspec": {
      "name": "python3",
      "display_name": "Python 3"
    }
  },
  "cells": [
    {
      "cell_type": "markdown",
      "metadata": {
        "id": "view-in-github",
        "colab_type": "text"
      },
      "source": [
        "<a href=\"https://colab.research.google.com/github/akinjyde/ENGR-2311/blob/master/Eigen_value_problem.ipynb\" target=\"_parent\"><img src=\"https://colab.research.google.com/assets/colab-badge.svg\" alt=\"Open In Colab\"/></a>"
      ]
    },
    {
      "cell_type": "markdown",
      "metadata": {
        "id": "ZCVKP63-vJlO",
        "colab_type": "text"
      },
      "source": [
        "| ENGR 2311              | Numerical Methods for CSE Majors              |\n",
        "|------------------------|-----------------------------------------------|\n",
        "| Spring 2020            | Dr. Akinjide Akintunde                        |\n",
        "|------------------------|-----------------------------------------------|\n",
        "| Last Edited: April 1, 2020                                            |"
      ]
    },
    {
      "cell_type": "markdown",
      "metadata": {
        "id": "mMDAUC3fvT-M",
        "colab_type": "text"
      },
      "source": [
        "How to solve eigenvalue problems in Python\n",
        "==="
      ]
    },
    {
      "cell_type": "markdown",
      "metadata": {
        "id": "y0HAgxEZvtQR",
        "colab_type": "text"
      },
      "source": [
        "## Import numpy module"
      ]
    },
    {
      "cell_type": "code",
      "metadata": {
        "id": "LYlTjW7Lvwz0",
        "colab_type": "code",
        "colab": {}
      },
      "source": [
        "import numpy as np"
      ],
      "execution_count": 0,
      "outputs": []
    },
    {
      "cell_type": "markdown",
      "metadata": {
        "id": "gHHSmQGZv7zT",
        "colab_type": "text"
      },
      "source": [
        "## Provide the matrix of coefficients $[A]$"
      ]
    },
    {
      "cell_type": "markdown",
      "metadata": {
        "id": "W-GrxLGJyBLg",
        "colab_type": "text"
      },
      "source": [
        "\\begin{bmatrix}\n",
        "a_{11} & a_{12} & ...\\\\\n",
        "a_{21} & a_{22} & ...\\\\\n",
        "... & ... & ...\\\\\n",
        "\\end{bmatrix}"
      ]
    },
    {
      "cell_type": "code",
      "metadata": {
        "id": "1NpnRrzEwBLS",
        "colab_type": "code",
        "colab": {}
      },
      "source": [
        "A = np.array([[10, -5], [-5, 10]])"
      ],
      "execution_count": 0,
      "outputs": []
    },
    {
      "cell_type": "markdown",
      "metadata": {
        "id": "hyX-Hh2owEW4",
        "colab_type": "text"
      },
      "source": [
        "## Solve for the eigenvalue(s) and their corresponding eigenvectors using the linear algebra module in Numpy package via its $\\textit{eig}$ function "
      ]
    },
    {
      "cell_type": "code",
      "metadata": {
        "id": "IjPRQTAEwNIY",
        "colab_type": "code",
        "outputId": "3fd8aff8-b0fc-462e-e78d-5d8e11396f21",
        "colab": {
          "base_uri": "https://localhost:8080/",
          "height": 68
        }
      },
      "source": [
        "eig_vals, eig_vecs = np.linalg.eig(A)\n",
        "print(eig_vals)\n",
        "print(eig_vecs)"
      ],
      "execution_count": 0,
      "outputs": [
        {
          "output_type": "stream",
          "text": [
            "[15.  5.]\n",
            "[[ 0.70710678  0.70710678]\n",
            " [-0.70710678  0.70710678]]\n"
          ],
          "name": "stdout"
        }
      ]
    }
  ]
}